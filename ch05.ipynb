{
 "cells": [
  {
   "cell_type": "markdown",
   "id": "383f4fb1",
   "metadata": {},
   "source": [
    "# 5章 リカレントニューラルネットワーク(RNN)"
   ]
  },
  {
   "cell_type": "markdown",
   "id": "886b3a21",
   "metadata": {},
   "source": [
    "## 5.1 確率と言語モデル"
   ]
  },
  {
   "cell_type": "markdown",
   "id": "fdfd0db7",
   "metadata": {},
   "source": [
    "### 5.1.1 word2vecを確率の視点から眺める"
   ]
  },
  {
   "cell_type": "markdown",
   "id": "74ccc67c",
   "metadata": {},
   "source": [
    "### 5.1.2 言語モデル"
   ]
  },
  {
   "cell_type": "markdown",
   "id": "d11d1df7",
   "metadata": {},
   "source": [
    "#### 言語モデル\n",
    "単語の並びに対してそれがどれだけ起こりえるのかという確率を与える．この確率は音声認識や機械翻訳が文章として自然であるかどうかを判断する際などに用いることができる．\n",
    "#### 同時確率\n",
    "$$\n",
    "P(w_1, ..., w_m)\n",
    "$$\n",
    "複数の事象が同時に起こる確率\n",
    "#### 同時確率を事後確率で分解する\n",
    "$$\n",
    "P(w_1, ..., w_m) = P(w_m|w_1, ..., w_{m-1})P(w_{m-1}|w_1, ..., w_{m-2})\n",
    "...P(w_3|w_1, w_2)P(w_2|w_1)P(w_1)\n",
    "= \\prod_{t=1}^{m}P(w_t|w_1, ..., w_{t-1})\n",
    "$$"
   ]
  },
  {
   "cell_type": "markdown",
   "id": "58da19d8",
   "metadata": {},
   "source": [
    "### 5.1.3 CBOWモデルを言語モデルに？"
   ]
  },
  {
   "cell_type": "markdown",
   "id": "041b62e7",
   "metadata": {},
   "source": [
    "コンテキストのサイズをある値に限定することで近似的に表す．\n",
    "\n",
    "#### word2vecのCBOWモデルを言語モデルに\n",
    "### $$ \n",
    "P(w_1, ..., w_m) = \\prod_{t=1}^{m}P(w_t|w_1, ..., w_{t-1})～\\prod_{t=1}^{m}P(w_t|w_{t-2}, w_{t-1})\n",
    "$$"
   ]
  },
  {
   "cell_type": "markdown",
   "id": "aae782e0",
   "metadata": {},
   "source": [
    "#### マルコフ性\n",
    "未来の状態が現在の状態だけに依存して決まること．ある事象の確率がその直前のN個の事象だけに依存するとき，「N階マルコフ連鎖」と言う．\n",
    "#### CBOWモデルはコンテキスト内の単語の並びを無視する\n",
    "CBOWモデルの中間層では単語ベクトルの和が求められるため，コンテキストの単語の並び方が無視される．\n",
    "\n",
    "コンテキストの単語ベクトルを中間層において「連結」することが考えられる．一方で連結するアプローチをとれば，コンテキストのサイズに比例して重みパラメータが増える．それは歓迎されない．\n",
    "\n",
    "#### RNN\n",
    "上のジレンマを解消するのがRNN（リカレントニューラルネットワーク）である．"
   ]
  },
  {
   "cell_type": "markdown",
   "id": "7a15299c",
   "metadata": {},
   "source": [
    "## 5.2 RNNとは"
   ]
  },
  {
   "cell_type": "markdown",
   "id": "d1672a62",
   "metadata": {},
   "source": [
    "#### 直訳すると．．．\n",
    "何度も繰り返し起こること，再発するニューラルネットワーク，循環するニューラルネットワーク．\n",
    "る．"
   ]
  },
  {
   "cell_type": "markdown",
   "id": "289b3f9a",
   "metadata": {},
   "source": [
    "### 5.2.1 循環するニューラルネットワーク"
   ]
  },
  {
   "cell_type": "markdown",
   "id": "3cff35d7",
   "metadata": {},
   "source": [
    "#### 閉じた経路を持つ\n",
    "ループ経路を持つことで，データは絶えず循環することができる．そしてデータが循環することにより，過去の情報を記憶しながら，最新のデータへと更新され"
   ]
  },
  {
   "cell_type": "markdown",
   "id": "4d7e35d3",
   "metadata": {},
   "source": [
    "### 5.2.2 ループの展開"
   ]
  },
  {
   "cell_type": "markdown",
   "id": "ba7d191b",
   "metadata": {},
   "source": [
    "#### 2つの入力（そのレイヤの入力，一つ前のRNNレイヤからの出力）を元にその時刻の出力が計算される\n",
    "### $$\n",
    "h_1 = tanh(h_{t-1}W_h+x_tW_x+b)\n",
    "$$\n",
    "\n",
    "- $W_x$: 入力xを出力hに変換するための重み\n",
    "- $W_h$: ひとつ前のRNNの出力を次時刻の出力に変換するための重み\n",
    "- $b$: バイアス\n",
    "\n",
    "#### 状態を持つレイヤ，メモリ（記憶力）を持つレイヤ\n",
    "RNNはhという状態を持つ．\n",
    "\n",
    "#### 隠れ状態，隠れ状態ベクトル\n",
    "RNNのhは「状態」を記憶し，時間が1ステップ（1単位）進むに従い，上記の式の形で計算が行われて更新していく．"
   ]
  },
  {
   "cell_type": "markdown",
   "id": "9761d591",
   "metadata": {},
   "source": [
    "### 5.2.3 Backpropagation Through Time"
   ]
  },
  {
   "cell_type": "markdown",
   "id": "2a6b3320",
   "metadata": {},
   "source": [
    "#### BPTT\n",
    "Backpropagation Through Timeの略称．ループを展開した後のRNNは（通常の）誤差逆伝播法を使える．ここでの誤差逆伝播法は，「時間方向に展開したニューラルネットワークの誤差逆伝播法」となる．\n",
    "\n",
    "#### RNNの学習時の問題\n",
    "時系列データの時間サイズが大きくなると同時に，BPTTで消費するコンピュータの計算リソースが増加すること．また時間サイズが長くなれば，逆伝播時の勾配が不安定になることも考えられる．時系列データの長さに応じて増加するコンピュータのメモリ使用量も考える必要がある．"
   ]
  },
  {
   "cell_type": "markdown",
   "id": "921ce1da",
   "metadata": {},
   "source": [
    "### 5.2.4 Truncated BPTT"
   ]
  },
  {
   "cell_type": "markdown",
   "id": "cfbe6383",
   "metadata": {},
   "source": [
    "#### Truncated BPTT\n",
    "時間軸方向に長くなり過ぎたネットワークを適当な場所で切り取ることで，小さなネットワークを（複数）作るというアイデア．そして，その切り取った小さなネットワークに対して，誤差逆伝播法を行う．\n",
    "\n",
    "#### データをシーケンシャルに与える\n",
    "順伝播のつながりを維持させながら，ブロック単位で誤差逆伝播法を適用する．"
   ]
  },
  {
   "cell_type": "markdown",
   "id": "be0c96dc",
   "metadata": {},
   "source": [
    "### 5.2.5 Truncated BPTTのミニバッチ学習"
   ]
  },
  {
   "cell_type": "markdown",
   "id": "21f21bc5",
   "metadata": {},
   "source": [
    "ミニバッチ学習を行う場合は，各バッチの開始位置をオフセットとしてずらして，シーケンシャルに与えていく．シーケンシャルにデータを与えていく途中で終端に達した場合は，先頭に戻すような対応が必要．"
   ]
  },
  {
   "cell_type": "markdown",
   "id": "eeddb44c",
   "metadata": {},
   "source": [
    "## 5.3 RNNの実装"
   ]
  },
  {
   "cell_type": "markdown",
   "id": "8dd8f2f3",
   "metadata": {},
   "source": [
    "- RNNレイヤ：Time RNNレイヤ内の1ステップの処理を行うレイヤ\n",
    "- Time RNNレイヤ：Tステップ分の処理をまとめて行うレイヤ\n",
    "- <code>class RNN</code>：RNNの1ステップの処理を行うクラス\n",
    "- <code>class TimeRNN</code>：RNNクラスを利用して，Tステップの処理をまとめて行うクラス"
   ]
  },
  {
   "cell_type": "markdown",
   "id": "f80fdbda",
   "metadata": {},
   "source": [
    "### 5.3.1 RNNレイヤの実装"
   ]
  },
  {
   "cell_type": "code",
   "execution_count": 2,
   "id": "8ad71405",
   "metadata": {},
   "outputs": [],
   "source": [
    "# NumPy\n",
    "import numpy as np\n",
    "\n",
    "# RNNクラス\n",
    "class RNN:\n",
    "    # 初期化，コンストラクタ\n",
    "    def __init__(self, Wx, Wh, b):\n",
    "        self.params = [Wx, Wh, b]\n",
    "        self.grads = [np.zeros_like(Wx), np.zeros_like(Wh),\\\n",
    "                     np.zeros_like(b)]\n",
    "        self.chache = None\n",
    "        \n",
    "    # 順伝播\n",
    "    def forward(self, x, h_prev):\n",
    "        Wx, Wh, b = self.params\n",
    "        t = np.dot(h_prev, Wh) + np.dot(x, Wx) + b\n",
    "        h_next = np.tanh(t)\n",
    "        \n",
    "        self.chache = (x, h_prev, h_text)\n",
    "        return h_next\n",
    "    \n",
    "    # 逆伝播\n",
    "    def backward(self, dh_next):\n",
    "        Wx, Wh, b = self.params\n",
    "        x, h_prev, h_next = self.chache\n",
    "        \n",
    "        dt = dh_next * (1 - h_next ** 2)\n",
    "        db = np.sum(dt, axis=0)\n",
    "        dWh = np.dot(h_prev.T, dt)\n",
    "        dh_prev = np.dot(dt, Wh.T)\n",
    "        dWx = np.dot(x.T, dt)\n",
    "        dx = np.dot(dt, Wx.T)\n",
    "        \n",
    "        self.grads[0][...] = dWx\n",
    "        self.grads[1][...] = dWh        \n",
    "        self.grads[2][...] = db\n",
    "        \n",
    "        return dx, dh_prev"
   ]
  },
  {
   "cell_type": "markdown",
   "id": "c78429cf",
   "metadata": {},
   "source": [
    "### 5.3.2 Time RNNレイヤの実装"
   ]
  },
  {
   "cell_type": "markdown",
   "id": "e3146871",
   "metadata": {},
   "source": [
    "#### 隠れ状態h\n",
    "Time RNNクラスのメンバ変数に保持する．隠れ状態の引継ぎを行う際に使用する．"
   ]
  },
  {
   "cell_type": "code",
   "execution_count": 4,
   "id": "9fe470c1",
   "metadata": {},
   "outputs": [],
   "source": [
    "# Time RNN\n",
    "class TimeRNN:\n",
    "    def __init__(self, Wx, Wh, b, stateful=False):\n",
    "        self.params = [Wx, Wh, b]\n",
    "        self.grads = [np.zeros_like(Wx), np.zeros_like(Wh),\n",
    "                     np.zeros_like(b)]\n",
    "        self.layers = None\n",
    "        \n",
    "        self.h, self.dh = None, None\n",
    "        self.stateful = stateful\n",
    "        \n",
    "    def set_state(self, h):\n",
    "        self.h = h\n",
    "        \n",
    "    def reset_state(self):\n",
    "        self.h = None\n",
    "    \n",
    "    def forward(self, xs):\n",
    "        Wx, Wh, b = self.params\n",
    "        N, T, D = xs.shape\n",
    "        D, H = Wx.shape\n",
    "        \n",
    "        self.layers = []\n",
    "        hs = np.empty((N, T, H), dtype='f')\n",
    "        \n",
    "        if not self.stateful or self.h is None:\n",
    "            self.h = np.zeros((N, H), dtype='f')\n",
    "            \n",
    "        for t in range(T):\n",
    "            layer = RNN(*self.params)\n",
    "            self.h = layer.forward(xs[:, t, :], self.h)\n",
    "            hs[:, t, :] = self.h\n",
    "            self.layers.append(layer)\n",
    "            \n",
    "        return hs\n",
    "    \n",
    "    def backward(self, dhs):\n",
    "        Wx, Wh, b = self.params\n",
    "        N, T, H = dhs.shape\n",
    "        D, H = Wx.shape\n",
    "        \n",
    "        dxs = np.empty((N, T, D), dtype='f')\n",
    "        dh = 0\n",
    "        grads = [0, 0, 0]\n",
    "        for i in reversed(range(T)):\n",
    "            layer = self.layers[t]\n",
    "            dx, dh = layer.backward(dhs[:, t, :] + dh)  # 合算した勾配\n",
    "            dxs[:, t, :] = dx\n",
    "            \n",
    "            for i, grad in enumerate(layer.grads):\n",
    "                grads[i] += grad\n",
    "                \n",
    "        for i, grad in enumerate(grads):\n",
    "            self.grads[i][...] = grad\n",
    "        self.dh = dh\n",
    "        \n",
    "        return dxs"
   ]
  },
  {
   "cell_type": "markdown",
   "id": "848c13a6",
   "metadata": {},
   "source": [
    "長い時系列データを処理するとき，RNNの隠れ状態を維持する必要がある．このような隠れ状態を維持する機能は，statefulという言葉でよく表される．多くのディープラーニングのフレームワークでは，RNNレイヤの引数にstatefulというものがあり，前時刻の隠れ状態を保持するかどうか指定することができる．"
   ]
  },
  {
   "cell_type": "markdown",
   "id": "93a3835c",
   "metadata": {},
   "source": [
    "## 5.4 時系列データを扱うレイヤの実装"
   ]
  },
  {
   "cell_type": "markdown",
   "id": "a5f8b251",
   "metadata": {},
   "source": [
    "#### RNNLMの完成を目指す\n",
    "RNN Language Modelを作成する．"
   ]
  },
  {
   "cell_type": "markdown",
   "id": "a259a2dc",
   "metadata": {},
   "source": [
    "### 5.4.1 RNNLMの全体図"
   ]
  },
  {
   "cell_type": "markdown",
   "id": "a0346d19",
   "metadata": {},
   "source": [
    "RNNLMはこれまで入力された単語を記憶し，それを元に次に出現する単語を予測する．これを可能にしているのがRNNレイヤの存在．RNNレイヤが過去から現在へとデータを継続して流すことによって，過去の情報をエンコードして記憶することを可能にしている．"
   ]
  },
  {
   "cell_type": "markdown",
   "id": "bea45762",
   "metadata": {},
   "source": [
    "### 5.4.2 Timeレイヤの実装"
   ]
  },
  {
   "cell_type": "markdown",
   "id": "61012587",
   "metadata": {},
   "source": [
    "## 5.5 RNNLMの学習と評価"
   ]
  },
  {
   "cell_type": "markdown",
   "id": "461db27b",
   "metadata": {},
   "source": [
    "### 5.5.1 RNNLMの実装"
   ]
  },
  {
   "cell_type": "markdown",
   "id": "933cd3ab",
   "metadata": {},
   "source": [
    "#### SimpleRnnlmクラス\n",
    "4つのTimeレイヤを重ねたニューラルネットワーク．"
   ]
  },
  {
   "cell_type": "code",
   "execution_count": 5,
   "id": "48b9a000",
   "metadata": {},
   "outputs": [],
   "source": [
    "# SimpleRnnlm\n",
    "# coding: utf-8\n",
    "import sys\n",
    "sys.path.append('..')\n",
    "import numpy as np\n",
    "from common.time_layers import *\n",
    "\n",
    "\n",
    "class SimpleRnnlm:\n",
    "    def __init__(self, vocab_size, wordvec_size, hidden_size):\n",
    "        V, D, H = vocab_size, wordvec_size, hidden_size\n",
    "        rn = np.random.randn\n",
    "\n",
    "        # 重みの初期化\n",
    "        embed_W = (rn(V, D) / 100).astype('f')\n",
    "        rnn_Wx = (rn(D, H) / np.sqrt(D)).astype('f')\n",
    "        rnn_Wh = (rn(H, H) / np.sqrt(H)).astype('f')\n",
    "        rnn_b = np.zeros(H).astype('f')\n",
    "        affine_W = (rn(H, V) / np.sqrt(H)).astype('f')\n",
    "        affine_b = np.zeros(V).astype('f')\n",
    "\n",
    "        # レイヤの生成\n",
    "        self.layers = [\n",
    "            TimeEmbedding(embed_W),\n",
    "            TimeRNN(rnn_Wx, rnn_Wh, rnn_b, stateful=True),\n",
    "            TimeAffine(affine_W, affine_b)\n",
    "        ]\n",
    "        self.loss_layer = TimeSoftmaxWithLoss()\n",
    "        self.rnn_layer = self.layers[1]\n",
    "\n",
    "        # すべての重みと勾配をリストにまとめる\n",
    "        self.params, self.grads = [], []\n",
    "        for layer in self.layers:\n",
    "            self.params += layer.params\n",
    "            self.grads += layer.grads\n",
    "\n",
    "    def forward(self, xs, ts):\n",
    "        for layer in self.layers:\n",
    "            xs = layer.forward(xs)\n",
    "        loss = self.loss_layer.forward(xs, ts)\n",
    "        return loss\n",
    "\n",
    "    def backward(self, dout=1):\n",
    "        dout = self.loss_layer.backward(dout)\n",
    "        for layer in reversed(self.layers):\n",
    "            dout = layer.backward(dout)\n",
    "        return dout\n",
    "\n",
    "    def reset_state(self):\n",
    "        self.rnn_layer.reset_state()\n"
   ]
  },
  {
   "cell_type": "markdown",
   "id": "15ea9d53",
   "metadata": {},
   "source": [
    "### 5.5.2 言語モデルの評価"
   ]
  },
  {
   "cell_type": "markdown",
   "id": "47c6c43d",
   "metadata": {},
   "source": [
    "#### パープレキシティ\n",
    "言語モデルでは，過去の与えられた単語（情報）から次に出現する単語の確率分布を出力するが，このときに言語モデルの予測性能の良さを評価する指標．確率の逆数がそれに該当する．パープレキシティの値は小さければ小さい程良い．値を直観的に解釈するなら分岐数と考えると分かりやすい．\n",
    "\n",
    "#### パープレキシティの数式\n",
    "### $$\n",
    "L = -\\frac{1}{N}\\sum_{n}\\sum_{k}t_{nk}logy_{nk}\n",
    "$$\n",
    "$$\n",
    "perplexity = e^L\n",
    "$$"
   ]
  },
  {
   "cell_type": "markdown",
   "id": "72239840",
   "metadata": {},
   "source": [
    "情報理論の分野では，パープレキシティは「平均分岐数」とも呼ばれる．これは，データが1個のときに説明した「分岐数」をN個の場合で平均したものという解釈．"
   ]
  },
  {
   "cell_type": "markdown",
   "id": "7d646d3f",
   "metadata": {},
   "source": [
    "### 5.5.3 RNNLMの学習コード"
   ]
  },
  {
   "cell_type": "code",
   "execution_count": 7,
   "id": "2aaa3f51",
   "metadata": {},
   "outputs": [
    {
     "name": "stdout",
     "output_type": "stream",
     "text": [
      "corpus size: 1000, vocabulary size: 418\n",
      "| epoch 1 | perplexity 394.52\n",
      "| epoch 2 | perplexity 274.94\n",
      "| epoch 3 | perplexity 226.20\n",
      "| epoch 4 | perplexity 216.44\n",
      "| epoch 5 | perplexity 206.20\n",
      "| epoch 6 | perplexity 203.45\n",
      "| epoch 7 | perplexity 200.09\n",
      "| epoch 8 | perplexity 196.90\n",
      "| epoch 9 | perplexity 191.31\n",
      "| epoch 10 | perplexity 192.36\n",
      "| epoch 11 | perplexity 187.80\n",
      "| epoch 12 | perplexity 191.65\n",
      "| epoch 13 | perplexity 189.31\n",
      "| epoch 14 | perplexity 190.27\n",
      "| epoch 15 | perplexity 188.82\n",
      "| epoch 16 | perplexity 185.41\n",
      "| epoch 17 | perplexity 183.38\n",
      "| epoch 18 | perplexity 179.26\n",
      "| epoch 19 | perplexity 180.24\n",
      "| epoch 20 | perplexity 181.45\n",
      "| epoch 21 | perplexity 179.00\n",
      "| epoch 22 | perplexity 174.53\n",
      "| epoch 23 | perplexity 171.50\n",
      "| epoch 24 | perplexity 173.54\n",
      "| epoch 25 | perplexity 171.29\n",
      "| epoch 26 | perplexity 169.70\n",
      "| epoch 27 | perplexity 164.24\n",
      "| epoch 28 | perplexity 162.68\n",
      "| epoch 29 | perplexity 158.91\n",
      "| epoch 30 | perplexity 153.10\n",
      "| epoch 31 | perplexity 154.13\n",
      "| epoch 32 | perplexity 147.04\n",
      "| epoch 33 | perplexity 147.96\n",
      "| epoch 34 | perplexity 140.56\n",
      "| epoch 35 | perplexity 139.31\n",
      "| epoch 36 | perplexity 132.74\n",
      "| epoch 37 | perplexity 131.66\n",
      "| epoch 38 | perplexity 125.28\n",
      "| epoch 39 | perplexity 120.15\n",
      "| epoch 40 | perplexity 114.21\n",
      "| epoch 41 | perplexity 113.91\n",
      "| epoch 42 | perplexity 107.34\n",
      "| epoch 43 | perplexity 101.78\n",
      "| epoch 44 | perplexity 98.89\n",
      "| epoch 45 | perplexity 93.61\n",
      "| epoch 46 | perplexity 92.00\n",
      "| epoch 47 | perplexity 86.79\n",
      "| epoch 48 | perplexity 81.61\n",
      "| epoch 49 | perplexity 79.79\n",
      "| epoch 50 | perplexity 75.15\n",
      "| epoch 51 | perplexity 72.08\n",
      "| epoch 52 | perplexity 69.23\n",
      "| epoch 53 | perplexity 64.48\n",
      "| epoch 54 | perplexity 62.59\n",
      "| epoch 55 | perplexity 59.31\n",
      "| epoch 56 | perplexity 57.20\n",
      "| epoch 57 | perplexity 53.18\n",
      "| epoch 58 | perplexity 51.07\n",
      "| epoch 59 | perplexity 48.13\n",
      "| epoch 60 | perplexity 44.98\n",
      "| epoch 61 | perplexity 44.40\n",
      "| epoch 62 | perplexity 41.16\n",
      "| epoch 63 | perplexity 37.50\n",
      "| epoch 64 | perplexity 36.67\n",
      "| epoch 65 | perplexity 35.16\n",
      "| epoch 66 | perplexity 33.41\n",
      "| epoch 67 | perplexity 31.55\n",
      "| epoch 68 | perplexity 29.52\n",
      "| epoch 69 | perplexity 29.07\n",
      "| epoch 70 | perplexity 27.11\n",
      "| epoch 71 | perplexity 25.78\n",
      "| epoch 72 | perplexity 24.61\n",
      "| epoch 73 | perplexity 23.13\n",
      "| epoch 74 | perplexity 21.63\n",
      "| epoch 75 | perplexity 21.09\n",
      "| epoch 76 | perplexity 19.59\n",
      "| epoch 77 | perplexity 17.97\n",
      "| epoch 78 | perplexity 17.13\n",
      "| epoch 79 | perplexity 15.99\n",
      "| epoch 80 | perplexity 15.51\n",
      "| epoch 81 | perplexity 14.60\n",
      "| epoch 82 | perplexity 14.39\n",
      "| epoch 83 | perplexity 13.31\n",
      "| epoch 84 | perplexity 13.46\n",
      "| epoch 85 | perplexity 12.15\n",
      "| epoch 86 | perplexity 11.83\n",
      "| epoch 87 | perplexity 10.48\n",
      "| epoch 88 | perplexity 10.40\n",
      "| epoch 89 | perplexity 9.41\n",
      "| epoch 90 | perplexity 9.21\n",
      "| epoch 91 | perplexity 8.88\n",
      "| epoch 92 | perplexity 8.38\n",
      "| epoch 93 | perplexity 8.03\n",
      "| epoch 94 | perplexity 7.29\n",
      "| epoch 95 | perplexity 7.00\n",
      "| epoch 96 | perplexity 7.03\n",
      "| epoch 97 | perplexity 6.95\n",
      "| epoch 98 | perplexity 6.55\n",
      "| epoch 99 | perplexity 6.16\n",
      "| epoch 100 | perplexity 5.78\n"
     ]
    },
    {
     "name": "stderr",
     "output_type": "stream",
     "text": [
      "findfont: Font family ['IPAexGothic'] not found. Falling back to DejaVu Sans.\n"
     ]
    },
    {
     "data": {
      "image/png": "[encoded data removed]",
      "text/plain": [
       "<Figure size 432x288 with 1 Axes>"
      ]
     },
     "metadata": {
      "needs_background": "light"
     },
     "output_type": "display_data"
    }
   ],
   "source": [
    "# coding: utf-8\n",
    "import sys\n",
    "sys.path.append('..')\n",
    "import matplotlib.pyplot as plt\n",
    "import numpy as np\n",
    "from common.optimizer import SGD\n",
    "from dataset import ptb\n",
    "\n",
    "\n",
    "\n",
    "# ハイパーパラメータの設定\n",
    "batch_size = 10\n",
    "wordvec_size = 100\n",
    "hidden_size = 100\n",
    "time_size = 5  # Truncated BPTTの展開する時間サイズ\n",
    "lr = 0.1\n",
    "max_epoch = 100\n",
    "\n",
    "# 学習データの読み込み（データセットを小さくする）\n",
    "corpus, word_to_id, id_to_word = ptb.load_data('train')\n",
    "corpus_size = 1000\n",
    "corpus = corpus[:corpus_size]\n",
    "vocab_size = int(max(corpus) + 1)\n",
    "\n",
    "xs = corpus[:-1]  # 入力\n",
    "ts = corpus[1:]  # 出力（教師ラベル）\n",
    "data_size = len(xs)\n",
    "print('corpus size: %d, vocabulary size: %d' % (corpus_size, vocab_size))\n",
    "\n",
    "# 学習時に使用する変数\n",
    "max_iters = data_size // (batch_size * time_size)\n",
    "time_idx = 0\n",
    "total_loss = 0\n",
    "loss_count = 0\n",
    "ppl_list = []\n",
    "\n",
    "# モデルの生成\n",
    "model = SimpleRnnlm(vocab_size, wordvec_size, hidden_size)\n",
    "optimizer = SGD(lr)\n",
    "\n",
    "# ミニバッチの各サンプルの読み込み開始位置を計算\n",
    "jump = (corpus_size - 1) // batch_size\n",
    "offsets = [i * jump for i in range(batch_size)]\n",
    "\n",
    "for epoch in range(max_epoch):\n",
    "    for iter in range(max_iters):\n",
    "        # ミニバッチの取得\n",
    "        batch_x = np.empty((batch_size, time_size), dtype='i')\n",
    "        batch_t = np.empty((batch_size, time_size), dtype='i')\n",
    "        for t in range(time_size):\n",
    "            for i, offset in enumerate(offsets):\n",
    "                batch_x[i, t] = xs[(offset + time_idx) % data_size]\n",
    "                batch_t[i, t] = ts[(offset + time_idx) % data_size]\n",
    "            time_idx += 1\n",
    "\n",
    "        # 勾配を求め、パラメータを更新\n",
    "        loss = model.forward(batch_x, batch_t)\n",
    "        model.backward()\n",
    "        optimizer.update(model.params, model.grads)\n",
    "        total_loss += loss\n",
    "        loss_count += 1\n",
    "\n",
    "    # エポックごとにパープレキシティの評価\n",
    "    ppl = np.exp(total_loss / loss_count)\n",
    "    print('| epoch %d | perplexity %.2f'\n",
    "          % (epoch+1, ppl))\n",
    "    ppl_list.append(float(ppl))\n",
    "    total_loss, loss_count = 0, 0\n",
    "\n",
    "# グラフの描画\n",
    "x = np.arange(len(ppl_list))\n",
    "plt.plot(x, ppl_list, label='train')\n",
    "plt.xlabel('epochs')\n",
    "plt.ylabel('perplexity')\n",
    "plt.show()\n"
   ]
  },
  {
   "cell_type": "markdown",
   "id": "a24c33e4",
   "metadata": {},
   "source": [
    "### 5.5.4 RNNLMのTrainerクラス"
   ]
  },
  {
   "cell_type": "markdown",
   "id": "505d14e3",
   "metadata": {},
   "source": [
    "## 5.6 まとめ"
   ]
  },
  {
   "cell_type": "markdown",
   "id": "70c14faa",
   "metadata": {},
   "source": [
    "#### 本章で学んだこと\n",
    "- RNNはループする経路があり，それによって隠れ状態を内部に記憶することができる\n",
    "- RNNのループ経路を展開することで，複数のRNNレイヤがつながったネットワークと解釈することができ，通常の誤差逆伝播法によって学習することができる(=BPTT)\n",
    "- 長い時系列データを学習する場合は，適当な長さでデータのまとまりを作り，-これを「ブロック」という-,ブロック単位でBPTTによる学習を行う(=Trancated BPTT)\n",
    "- Truncated BPTTでは逆伝播のつながりのみを切断する\n",
    "- Trancated BPTTでは順伝播のつながりは維持するため，データはシーケンシャルに与える必要がある\n",
    "- 言語モデルは，単語の羅列を確率として解釈する\n",
    "- RNNレイヤを利用した条件付き言語モデルは，（理論的には）それまで登場した単語の情報を記憶することができる．"
   ]
  }
 ],
 "metadata": {
  "kernelspec": {
   "display_name": "Python 3 (ipykernel)",
   "language": "python",
   "name": "python3"
  },
  "language_info": {
   "codemirror_mode": {
    "name": "ipython",
    "version": 3
   },
   "file_extension": ".py",
   "mimetype": "text/x-python",
   "name": "python",
   "nbconvert_exporter": "python",
   "pygments_lexer": "ipython3",
   "version": "3.9.7"
  }
 },
 "nbformat": 4,
 "nbformat_minor": 5
}
